{
 "cells": [
  {
   "cell_type": "code",
   "execution_count": 10,
   "id": "0817167c",
   "metadata": {},
   "outputs": [
    {
     "ename": "ModuleNotFoundError",
     "evalue": "No module named 'probe'",
     "output_type": "error",
     "traceback": [
      "\u001b[0;31m---------------------------------------------------------------------------\u001b[0m",
      "\u001b[0;31mModuleNotFoundError\u001b[0m                       Traceback (most recent call last)",
      "\u001b[0;32m<ipython-input-10-25a02a4f3553>\u001b[0m in \u001b[0;36m<module>\u001b[0;34m\u001b[0m\n\u001b[1;32m     14\u001b[0m \u001b[0msys\u001b[0m\u001b[0;34m.\u001b[0m\u001b[0mpath\u001b[0m\u001b[0;34m.\u001b[0m\u001b[0minsert\u001b[0m\u001b[0;34m(\u001b[0m\u001b[0;36m0\u001b[0m\u001b[0;34m,\u001b[0m \u001b[0mpjoin\u001b[0m\u001b[0;34m(\u001b[0m\u001b[0mBASEPATH\u001b[0m\u001b[0;34m,\u001b[0m \u001b[0;34m'..'\u001b[0m\u001b[0;34m,\u001b[0m \u001b[0;34m'..'\u001b[0m\u001b[0;34m)\u001b[0m\u001b[0;34m)\u001b[0m\u001b[0;34m\u001b[0m\u001b[0;34m\u001b[0m\u001b[0m\n\u001b[1;32m     15\u001b[0m \u001b[0;34m\u001b[0m\u001b[0m\n\u001b[0;32m---> 16\u001b[0;31m \u001b[0;32mfrom\u001b[0m \u001b[0mutils\u001b[0m\u001b[0;34m.\u001b[0m\u001b[0manimation_data\u001b[0m \u001b[0;32mimport\u001b[0m \u001b[0mAnimationData\u001b[0m\u001b[0;34m\u001b[0m\u001b[0;34m\u001b[0m\u001b[0m\n\u001b[0m\u001b[1;32m     17\u001b[0m \u001b[0;32mfrom\u001b[0m \u001b[0mutils\u001b[0m\u001b[0;34m.\u001b[0m\u001b[0mload_skeleton\u001b[0m \u001b[0;32mimport\u001b[0m \u001b[0mSkel\u001b[0m\u001b[0;34m\u001b[0m\u001b[0;34m\u001b[0m\u001b[0m\n",
      "\u001b[0;32m~/workspace/personal_git/deep-motion-editing/utils/animation_data.py\u001b[0m in \u001b[0;36m<module>\u001b[0;34m\u001b[0m\n\u001b[1;32m     14\u001b[0m \u001b[0;32mfrom\u001b[0m \u001b[0mPivots\u001b[0m \u001b[0;32mimport\u001b[0m \u001b[0mPivots\u001b[0m\u001b[0;34m\u001b[0m\u001b[0;34m\u001b[0m\u001b[0m\n\u001b[1;32m     15\u001b[0m \u001b[0;32mimport\u001b[0m \u001b[0mBVH\u001b[0m\u001b[0;34m\u001b[0m\u001b[0;34m\u001b[0m\u001b[0m\n\u001b[0;32m---> 16\u001b[0;31m \u001b[0;32mfrom\u001b[0m \u001b[0mprobe\u001b[0m\u001b[0;34m.\u001b[0m\u001b[0manim_view\u001b[0m \u001b[0;32mimport\u001b[0m \u001b[0mvisualize\u001b[0m\u001b[0;34m\u001b[0m\u001b[0;34m\u001b[0m\u001b[0m\n\u001b[0m\u001b[1;32m     17\u001b[0m \u001b[0;34m\u001b[0m\u001b[0m\n\u001b[1;32m     18\u001b[0m \u001b[0;34m\u001b[0m\u001b[0m\n",
      "\u001b[0;31mModuleNotFoundError\u001b[0m: No module named 'probe'"
     ]
    }
   ],
   "source": [
    "import os\n",
    "import sys\n",
    "import numpy as np\n",
    "import yaml\n",
    "import argparse\n",
    "import shutil\n",
    "from copy import deepcopy\n",
    "from os.path import join as pjoin\n",
    "BASEPATH = os.path.dirname('/home/taehyun/workspace/personal_git/deep-motion-editing')\n",
    "# sys.path.insert(0, '/home/taehyun/workspace/personal_git/deep-motion-editing')\n",
    "\n",
    "sys.path.insert(0, pjoin(BASEPATH, '..'))\n",
    "sys.path.insert(0, pjoin(BASEPATH, '..', '..'))\n",
    "\n",
    "from utils.animation_data import AnimationData\n",
    "from utils.load_skeleton import Skel\n"
   ]
  },
  {
   "cell_type": "code",
   "execution_count": 2,
   "id": "1ad389bc",
   "metadata": {},
   "outputs": [],
   "source": [
    "dataset_config = '../global_info/xia_dataset.yml'\n",
    "window_step = 8\n",
    "window = 32\n",
    "output_path = '../data/bfa'\n",
    "dataset = 'xia'\n",
    "bvh_path = '../data/mocap_bfa'"
   ]
  },
  {
   "cell_type": "code",
   "execution_count": 3,
   "id": "abbcd17b",
   "metadata": {},
   "outputs": [],
   "source": [
    "with open(dataset_config, \"r\") as f:\n",
    "        cfg = yaml.load(f, Loader=yaml.Loader)\n",
    "content_namedict = [full_name.split('_')[0] for full_name in cfg[\"content_full_names\"]]\n",
    "content_test_cnt = cfg[\"content_test_cnt\"]\n",
    "content_names = cfg[\"content_names\"]\n",
    "style_names = cfg[\"style_names\"]\n",
    "style_name_to_idx = {name: i for i, name in enumerate(style_names)}"
   ]
  },
  {
   "cell_type": "code",
   "execution_count": 4,
   "id": "a95c46b4",
   "metadata": {},
   "outputs": [
    {
     "data": {
      "text/plain": [
       "['walk',\n",
       " 'walk',\n",
       " 'walk',\n",
       " 'walk',\n",
       " 'walk',\n",
       " 'walk',\n",
       " 'walk',\n",
       " 'walk',\n",
       " 'walk',\n",
       " 'walk',\n",
       " 'walk',\n",
       " 'walk',\n",
       " 'run',\n",
       " 'run',\n",
       " 'run',\n",
       " 'jump',\n",
       " 'jump',\n",
       " 'punch',\n",
       " 'punch',\n",
       " 'punch',\n",
       " 'punch',\n",
       " 'kick',\n",
       " 'kick',\n",
       " 'trans',\n",
       " 'trans',\n",
       " 'trans',\n",
       " 'trans',\n",
       " 'trans']"
      ]
     },
     "execution_count": 4,
     "metadata": {},
     "output_type": "execute_result"
    }
   ],
   "source": [
    "content_namedict"
   ]
  },
  {
   "cell_type": "code",
   "execution_count": null,
   "id": "68e918a8",
   "metadata": {},
   "outputs": [],
   "source": []
  }
 ],
 "metadata": {
  "kernelspec": {
   "display_name": "Python 3",
   "language": "python",
   "name": "python3"
  },
  "language_info": {
   "codemirror_mode": {
    "name": "ipython",
    "version": 3
   },
   "file_extension": ".py",
   "mimetype": "text/x-python",
   "name": "python",
   "nbconvert_exporter": "python",
   "pygments_lexer": "ipython3",
   "version": "3.6.9"
  }
 },
 "nbformat": 4,
 "nbformat_minor": 5
}
